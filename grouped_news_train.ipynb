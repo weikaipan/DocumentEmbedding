{
 "cells": [
  {
   "cell_type": "markdown",
   "metadata": {},
   "source": [
    "## This notebook contains our article embedding and clustering results"
   ]
  },
  {
   "cell_type": "markdown",
   "metadata": {},
   "source": [
    "The pickle file: 500group_count.p, contains a dataframe:\n",
    "\n",
    "The row of dataframe is the aslyum court case.\n",
    "Each column of this dataframe is a group of news with similarity determined by k-means clustering.\n",
    "There are 500 groups in total in this dataframe"
   ]
  },
  {
   "cell_type": "code",
   "execution_count": 1,
   "metadata": {
    "collapsed": true
   },
   "outputs": [],
   "source": [
    "import pandas as pd"
   ]
  },
  {
   "cell_type": "code",
   "execution_count": 2,
   "metadata": {
    "collapsed": true
   },
   "outputs": [],
   "source": [
    "df = pd.read_pickle('../data/pickles/500group_count.p')"
   ]
  },
  {
   "cell_type": "code",
   "execution_count": 7,
   "metadata": {},
   "outputs": [
    {
     "data": {
      "text/plain": [
       "(168690, 502)"
      ]
     },
     "execution_count": 7,
     "metadata": {},
     "output_type": "execute_result"
    }
   ],
   "source": [
    "df.shape"
   ]
  },
  {
   "cell_type": "code",
   "execution_count": 4,
   "metadata": {
    "collapsed": true
   },
   "outputs": [],
   "source": [
    "from sklearn.model_selection import train_test_split\n",
    "from sklearn import metrics\n",
    "X, y = df.drop(['Unnamed: 0', 'grant'], axis=1), df['grant']"
   ]
  },
  {
   "cell_type": "code",
   "execution_count": 5,
   "metadata": {
    "collapsed": true
   },
   "outputs": [],
   "source": [
    "features = df.drop(['Unnamed: 0', 'grant'], axis=1).columns.values"
   ]
  },
  {
   "cell_type": "code",
   "execution_count": 16,
   "metadata": {
    "collapsed": true
   },
   "outputs": [],
   "source": [
    "from sklearn.preprocessing import StandardScaler\n",
    "scaler = StandardScaler()\n",
    "X = scaler.fit_transform(X)"
   ]
  },
  {
   "cell_type": "markdown",
   "metadata": {},
   "source": [
    "## In below training setting, the label is binary, either granted or denied. We only included features of 500 groups"
   ]
  },
  {
   "cell_type": "markdown",
   "metadata": {},
   "source": [
    "(This is a pipeline test, we will try all court cases for the same process)"
   ]
  },
  {
   "cell_type": "markdown",
   "metadata": {},
   "source": [
    "## Using Logistic Regression to train a classification model"
   ]
  },
  {
   "cell_type": "code",
   "execution_count": 6,
   "metadata": {},
   "outputs": [
    {
     "name": "stdout",
     "output_type": "stream",
     "text": [
      "Accuracy = 0.625\n"
     ]
    }
   ],
   "source": [
    "from sklearn.linear_model import LogisticRegression\n",
    "\n",
    "X_train, X_test, y_train, y_test = train_test_split(X, y, test_size = 0.3)\n",
    "\n",
    "LR_model = LogisticRegression()\n",
    "LR_model.fit(X_train, y_train)\n",
    "LR_accuracy = metrics.accuracy_score(LR_model.predict(X_test), y_test)\n",
    "print(\"Accuracy = %.3f\" % LR_accuracy)"
   ]
  },
  {
   "cell_type": "code",
   "execution_count": 10,
   "metadata": {
    "collapsed": true
   },
   "outputs": [],
   "source": [
    "import numpy as np\n",
    "import matplotlib.pyplot as plt\n",
    "\n",
    "def plot_coefficients(classifier, feature_names, top_features=20, tree=True):\n",
    "    if tree:\n",
    "        coef = classifier.feature_importances_\n",
    "    else:\n",
    "        coef = classifier.coef_.ravel()\n",
    "    top_positive_coefficients = np.argsort(coef)[-top_features:]\n",
    "    top_negative_coefficients = np.argsort(coef)[:top_features]\n",
    "    top_coefficients = np.hstack([top_negative_coefficients, top_positive_coefficients])\n",
    "    # create plot\n",
    "    plt.figure(figsize=(15, 5))\n",
    "    colors = ['red' if c < 0 else 'blue' for c in coef[top_coefficients]]\n",
    "    plt.bar(np.arange(2 * top_features), coef[top_coefficients], color=colors)\n",
    "    feature_names = np.array(feature_names)\n",
    "    plt.xticks(np.arange(1, 1 + 2 * top_features), feature_names[top_coefficients], rotation=60, ha='right')\n",
    "    plt.show()"
   ]
  },
  {
   "cell_type": "code",
   "execution_count": 11,
   "metadata": {},
   "outputs": [
    {
     "data": {
      "image/png": "[encoded data removed]",
      "text/plain": [
       "<matplotlib.figure.Figure at 0x1375000f0>"
      ]
     },
     "metadata": {},
     "output_type": "display_data"
    }
   ],
   "source": [
    "plot_coefficients(LR_model, features, tree=False)"
   ]
  },
  {
   "cell_type": "markdown",
   "metadata": {},
   "source": [
    "The pickle file group2title2_2001_2005.p contains the below data sturcutre:\n",
    "\n",
    "```\n",
    "{ group1: [t1, t2, t3, ...],\n",
    "  group2: [t1, t2, ...], \n",
    "  ...\n",
    "    }\n",
    "```\n",
    "\n",
    "where each list of news title belongs to its group"
   ]
  },
  {
   "cell_type": "code",
   "execution_count": 12,
   "metadata": {
    "collapsed": true
   },
   "outputs": [],
   "source": [
    "from utility import pickle_load, pickle_dump\n",
    "group2titles = pickle_load('../data/pickles/group2titles_2001_2005.p')"
   ]
  },
  {
   "cell_type": "markdown",
   "metadata": {},
   "source": [
    "## The news titles of each group are clustred together due to their news content similarity in the vector space.\n",
    "\n",
    "group2title2[59], corresponds to 60th group in above plot"
   ]
  },
  {
   "cell_type": "code",
   "execution_count": 14,
   "metadata": {},
   "outputs": [
    {
     "data": {
      "text/plain": [
       "['World Briefing/ASIA: SRI LANKA: ANOTHER BID FOR PEACE',\n",
       " 'World Briefing | Asia: Sri Lanka: Rebels Set Condition For Talks',\n",
       " 'World Briefing | Asia: Sri Lanka: Seeking Roots Of Conflict',\n",
       " 'World Briefing | Asia: Sri Lanka: Soldiers Held On Rape Charges',\n",
       " 'World Briefing | Asia: Sri Lanka: No Meeting Rebels Say',\n",
       " 'World Briefing | Asia: Sri Lanka: Rebels Strike Again',\n",
       " 'World Briefing | Asia: Sri Lanka: Rebels Continue Attacks',\n",
       " 'World Briefing | Asia: Sri Lanka: Truce Considered',\n",
       " 'World Briefing | Asia/Pacific: Sri Lanka: Politics Wont Stop Peace Effort',\n",
       " 'World Briefing | Asia: Sri Lanka: Top Rebel Killed By Mine',\n",
       " 'World Briefing | Asia/Pacific: Sri Lanka: 25 Rebels Killed In Sea Battle',\n",
       " 'World Briefing | Asia: Sri Lanka: Government Rejects Rebel Request',\n",
       " 'World Briefing | Asia: Sri Lanka: Cease-Fire On Both Sides',\n",
       " 'World Briefing | Asia: Sri Lanka: Effort To Restart Peace Talks',\n",
       " 'World Briefing | Asia: Sri Lanka: Meeting On Peace Effort',\n",
       " 'World Briefing | Asia: Sri Lanka: Cease-Fire Extended',\n",
       " 'World Briefing | Asia: Sri Lanka: Ban On Rebels May Be Lifted',\n",
       " 'World Briefing | Asia: Sri Lanka: Compensation In Police Rape',\n",
       " 'World Briefing | Asia: Sri Lanka: Draft Peace Accord',\n",
       " 'World Briefing | Asia: Sri Lanka: Premier Visits War Zone',\n",
       " 'World Briefing | Asia: Sri Lanka: Rebels Meet With Mediators',\n",
       " 'World Briefing | Asia: Sri Lanka: Peace Talks Set For May',\n",
       " 'World Briefing | Asia: Sri Lanka: Peace Talks In Bangkok',\n",
       " 'World Briefing | Asia: Sri Lanka: Hard Line On Peace Talks',\n",
       " 'World Briefing | Asia: Sri Lanka: Peace Talks Set For June',\n",
       " 'World Briefing | Asia: Sri Lanka: Peace Plan Stalls',\n",
       " 'World Briefing | Asia: Sri Lanka: Rights Group To Meet Rebels',\n",
       " 'World Briefing | Asia: Sri Lanka: Strict Defamation Law Repealed',\n",
       " 'World Briefing | Asia: Sri Lanka: Deal With Rebels',\n",
       " 'World Briefing | Asia: Sri Lanka: Ban On Rebels Ends',\n",
       " 'World Briefing | Asia: Sri Lanka: Rebel Leader Sees Mediators',\n",
       " 'World Briefing | Asia: Sri Lanka: Rebels Protest Leaders Sentence',\n",
       " 'World Briefing | Asia: Sri Lanka: Rebel Leader Demands Autonomy',\n",
       " 'World Briefing | Asia: Sri Lanka: Peace Talks Resume',\n",
       " 'World Briefing | Asia: Sri Lanka: Some Progress In Talks',\n",
       " 'World Briefing | Asia: Sri Lanka: Tension Before Talks Resume',\n",
       " 'World Briefing | Asia: Sri Lanka: Rebels Offer Peace Proposal',\n",
       " 'World Briefing | Asia: Sri Lanka: Rival Leaders Meet',\n",
       " 'World Briefing | Asia: Sri Lanka: President Abdicates Peace Role',\n",
       " 'World Briefing | Asia: Sri Lanka: Premier Reacts',\n",
       " 'World Briefing | Asia: Sri Lanka: Opponents Of Peace Talks Join Cabinet',\n",
       " 'World Briefing | Asia: Sri Lanka: Peace Envoys Confer With Rebels',\n",
       " 'World Briefing | Asia: Sri Lanka: Angry Words By Rebels',\n",
       " 'World Briefing | Asia: Sri Lanka: Rebels Accused In Swiss Death',\n",
       " 'World Briefing | Asia: Sri Lanka: Rebels Dismiss Peace Plan',\n",
       " 'World Briefing | Asia: Sri Lanka: Court Blocks Tsunami Aid Deal']"
      ]
     },
     "execution_count": 14,
     "metadata": {},
     "output_type": "execute_result"
    }
   ],
   "source": [
    "group2titles[59]"
   ]
  },
  {
   "cell_type": "code",
   "execution_count": 15,
   "metadata": {},
   "outputs": [
    {
     "data": {
      "text/plain": [
       "['World Briefing | Europe: Ukraine: Victory For Presidents Foe',\n",
       " 'World Briefing | Europe: Ukraine: Not So Fast Judge Says',\n",
       " 'World Briefing | Europe: Ukraine: No More Executions',\n",
       " 'World Briefing | Europe: Ukraine: Government Backtracks On Slaying',\n",
       " 'World Briefing | Europe: Ukraine: Amnesty Prompts TB Fears',\n",
       " 'World Briefing | Europe: Ukraine: Bribery Investigation',\n",
       " 'World Briefing | Europe: Ukraine: New Inquiry On Missing Journalist',\n",
       " 'World Briefing | Europe: Ukraine: Whistle-Blower Blocked From Running',\n",
       " 'World Briefing | Europe: Ukraine: Opposition Leader Injured',\n",
       " 'World Briefing | Europe: Ukraine: Presidents Foe Free To Campaign',\n",
       " 'World Briefing | Europe: Ukraine: More Blamed In Air Disaster',\n",
       " 'World Briefing | Europe: Ukraine: Presidents Foe Pursued',\n",
       " 'World Briefing | Europe: Ukraine: President Tries To Fend Off Foes',\n",
       " 'World Briefing | Europe: Ukraine: Court Bans Protests',\n",
       " 'World Briefing | Europe: Ukraine: Protesters Detained',\n",
       " 'World Briefing | Europe: Ukraine: Government Denies Aiding Iraq',\n",
       " 'Ukraine Invites Investigation of Radar Sale',\n",
       " 'World Briefing | Europe: Ukraine: Panel To Study Reforms',\n",
       " 'World Briefing | Europe: Ukraine: Judge Orders Inquiry Of President',\n",
       " 'World Briefing | Europe: Ukraine: Court Rejects Charges Against President',\n",
       " 'World Briefing | Europe: Ukraine: Corpse Is Journalists',\n",
       " 'World Briefing | Europe: Ukraine: Parliament Votes To Let People Choose Leader',\n",
       " 'World Briefing | Europe: Ukraine: 3 Held In Killing Of Journalist',\n",
       " 'World Briefing | Europe: Ukraine: Ex-President Questioned In Murder']"
      ]
     },
     "execution_count": 15,
     "metadata": {},
     "output_type": "execute_result"
    }
   ],
   "source": [
    "group2titles[256]"
   ]
  },
  {
   "cell_type": "code",
   "execution_count": 16,
   "metadata": {},
   "outputs": [
    {
     "data": {
      "text/plain": [
       "['Ex-Leader of Belarus Challenges a Punishment by Pension',\n",
       " 'World Briefing | Europe: Russia: Novelist Faces Pornography Charge',\n",
       " 'Russian in Recent Cafe Article Is Slain',\n",
       " 'Russia Declines to Renew Visas For 30 U.S. Peace Corps Workers',\n",
       " 'Now on Exhibit: Russias Soul Exposed at Table',\n",
       " 'World Briefing | Europe: Russia: A Gorby By Any Other Name Wont Sell',\n",
       " 'World Briefing | Europe: Russia: Army Diet Found Lacking',\n",
       " 'World Briefing | Europe: Russia: No Toast For The Winner',\n",
       " 'Aleksandr Y. Bovin 73 Who Twitted Kremlin',\n",
       " 'World Briefing | Europe: Georgia: Warlords Auction Fails',\n",
       " 'World Briefing | Europe: Russia: Chechen Widows Broadcast Barred',\n",
       " 'Russian TV Newsman Fired in Media Crackdown']"
      ]
     },
     "execution_count": 16,
     "metadata": {},
     "output_type": "execute_result"
    }
   ],
   "source": [
    "group2titles[101]"
   ]
  },
  {
   "cell_type": "code",
   "execution_count": 17,
   "metadata": {},
   "outputs": [
    {
     "data": {
      "text/plain": [
       "['Burmese Junta in Talks With Democracy Leader',\n",
       " 'Memo Feeds Concern That Exports to U.S. Help Burmese Junta',\n",
       " 'For Many Burmese China Is an Unwanted Ally',\n",
       " 'On the Road to Mandalay an Ethical Predicament',\n",
       " 'Burmese Dissidents Expected Release May Have Hit a Snag',\n",
       " 'Burmese Democracy Advocate Is Released From House Arrest',\n",
       " 'Freed Burmese Democracy Leader Proclaims New Dawn',\n",
       " 'Burmese Dissident Strikes New Balance With Junta Leaders',\n",
       " 'Burmese General Says Transition to Democracy Will Be Slow',\n",
       " 'After Freeing Dissident Burmese Rulers Move Slowly on Reform',\n",
       " 'Ne Win Ex-Burmese Military Strongman Dies at 81',\n",
       " 'U.S. Says Evidence Confirms Reports of Mass Rapes by Burmese',\n",
       " 'In a Contest of Cultures East Embraces West',\n",
       " 'A Year After Vowing Change Burmese Junta Hardens Line',\n",
       " 'Burmese Opposition Leader Taken Into Custody After Clashes',\n",
       " 'Burmese Rulers Close More Offices of Pro-Democracy Party',\n",
       " 'Burmese Officials Deny Dissident Was Injured',\n",
       " 'U.N. Envoy Will Try to Visit Burmese Dissident Held by Junta',\n",
       " 'Burmese Juntas Remedy: Crackdown',\n",
       " 'Critic of Burmese Junta Not Hurt Envoy Says',\n",
       " 'U.S. Steps Up Pressure on Burmese Junta',\n",
       " 'Neighbors Join Critics Of Burmese',\n",
       " 'Britain Says Democracy Advocate Is Held in Burmese Jail',\n",
       " 'Japan Halts Aid to Burmese Over Democracy Leaders Detention',\n",
       " 'Burmese Defy U.S. Demands For Release Of Activist',\n",
       " 'Offered Freedom Burmese Dissenter Refuses',\n",
       " 'Despite U.S. Penalties Burmese Junta Refuses to Budge',\n",
       " 'Myanmars Liberal-Leaning Premier Removed by Military Rulers',\n",
       " 'Chinese Premier Signs Trade Pact at Southeast Asian Summit',\n",
       " 'Rice in Southeast Asia Draws Fire for Plan to Avoid Forum']"
      ]
     },
     "execution_count": 17,
     "metadata": {},
     "output_type": "execute_result"
    }
   ],
   "source": [
    "group2titles[127]"
   ]
  },
  {
   "cell_type": "code",
   "execution_count": 18,
   "metadata": {},
   "outputs": [
    {
     "data": {
      "text/plain": [
       "['World Briefing | Asia: Sri Lanka: Government Lifts Censorship',\n",
       " 'World Briefing | Asia: India: Sonia Gandhi To Visit U.S.',\n",
       " 'World Briefing | Asia: Sri Lanka: Parliament Urged To Reopen',\n",
       " 'World Briefing | Asia: Sri Lanka: Opposition Ready For Showdown',\n",
       " 'World Briefing | Asia: Sri Lanka: Protesters Defy Ban',\n",
       " 'World Briefing | Asia: India: Censure Fails',\n",
       " 'World Briefing | Asia: Sri Lanka: Vote Postponed',\n",
       " 'World Briefing | Asia: Bangladesh: Election In October',\n",
       " 'World Briefing | Asia: Sri Lanka: Parliament Opens After Suspension',\n",
       " 'World Briefing | Asia: India: Minister Resigns After Setback',\n",
       " 'World Briefing | Asia/Pacific: Bangladesh: The Voting Begins',\n",
       " 'World Briefing | Asia: Sri Lanka: Leaders Brother Back On Team',\n",
       " 'World Briefing | Asia: Sri Lanka: Mud Flies Before Election',\n",
       " 'World Briefing | Asia: Sri Lanka: Governing Party Sweeps Elections',\n",
       " 'World Briefing | Asia: Sri Lanka: Ministers Dismissed',\n",
       " 'World Briefing | Asia: India: New Gandhi In Politics',\n",
       " 'World Briefing | Asia: Sri Lanka: New Prime Minister',\n",
       " 'World Briefing | Asia: Sri Lanka: Coalition Partner Quits']"
      ]
     },
     "execution_count": 18,
     "metadata": {},
     "output_type": "execute_result"
    }
   ],
   "source": [
    "group2titles[68]"
   ]
  },
  {
   "cell_type": "markdown",
   "metadata": {},
   "source": [
    "## Using Decision Tree Model to train a classification model"
   ]
  },
  {
   "cell_type": "code",
   "execution_count": 75,
   "metadata": {},
   "outputs": [
    {
     "name": "stdout",
     "output_type": "stream",
     "text": [
      "Accuracy = 0.620\n"
     ]
    }
   ],
   "source": [
    "from sklearn import tree\n",
    "clf = tree.DecisionTreeClassifier()\n",
    "clf.fit(X_train, y_train)\n",
    "clf_accuracy = metrics.accuracy_score(clf.predict(X_test), y_test)\n",
    "print(\"Accuracy = %.3f\" % clf_accuracy)"
   ]
  },
  {
   "cell_type": "code",
   "execution_count": 78,
   "metadata": {},
   "outputs": [
    {
     "data": {
      "image/png": "[encoded data removed]",
      "text/plain": [
       "<matplotlib.figure.Figure at 0x1128d4438>"
      ]
     },
     "metadata": {},
     "output_type": "display_data"
    }
   ],
   "source": [
    "plot_coefficients(clf, features)"
   ]
  },
  {
   "cell_type": "code",
   "execution_count": 84,
   "metadata": {},
   "outputs": [
    {
     "name": "stdout",
     "output_type": "stream",
     "text": [
      "Accuracy = 0.620\n"
     ]
    }
   ],
   "source": [
    "rf_accuracy = metrics.accuracy_score(forest.predict(X_test), y_test)\n",
    "print(\"Accuracy = %.3f\" % rf_accuracy)"
   ]
  },
  {
   "cell_type": "code",
   "execution_count": 85,
   "metadata": {},
   "outputs": [
    {
     "data": {
      "image/png": "[encoded data removed]",
      "text/plain": [
       "<matplotlib.figure.Figure at 0x128ef3160>"
      ]
     },
     "metadata": {},
     "output_type": "display_data"
    }
   ],
   "source": [
    "plot_coefficients(forest, features)"
   ]
  },
  {
   "cell_type": "code",
   "execution_count": 86,
   "metadata": {},
   "outputs": [
    {
     "name": "stdout",
     "output_type": "stream",
     "text": [
      "Accuracy = 0.620\n"
     ]
    }
   ],
   "source": [
    "from sklearn.ensemble import RandomForestClassifier\n",
    "rlf = RandomForestClassifier(max_depth=2, random_state=0)\n",
    "rlf.fit(X, y)\n",
    "rlf_accuracy = metrics.accuracy_score(rlf.predict(X_test), y_test)\n",
    "print(\"Accuracy = %.3f\" % rf_accuracy)"
   ]
  },
  {
   "cell_type": "code",
   "execution_count": 87,
   "metadata": {},
   "outputs": [
    {
     "data": {
      "image/png": "[encoded data removed]",
      "text/plain": [
       "<matplotlib.figure.Figure at 0x11dde8c50>"
      ]
     },
     "metadata": {},
     "output_type": "display_data"
    }
   ],
   "source": [
    "plot_coefficients(rlf, features)"
   ]
  },
  {
   "cell_type": "code",
   "execution_count": 90,
   "metadata": {},
   "outputs": [
    {
     "data": {
      "text/plain": [
       "['World Briefing/AFRICA: SENEGAL: ELECTION BOLSTERS PRESIDENT',\n",
       " 'World Briefing | Africa: Chad: Opposition Leaders Released',\n",
       " 'World Briefing | Africa: Nigeria: Space Plans',\n",
       " 'World Briefing | Africa: Uganda: Opposition Figure Flees To U.S.',\n",
       " 'World Briefing | The Africa: Ivory Coast: Leaders Boycott Peace Talks',\n",
       " 'World Briefing | Africa: Zanzibar: Peace Accord Signed',\n",
       " 'World Briefing | Africa: Ivory Coast: Back From Exile',\n",
       " 'World Briefing | Asia: China: South African Leader Looks For Business',\n",
       " 'World Briefing | Europe: Italy: Royal Exiles Win Round 1',\n",
       " 'World Briefing | Africa: Kenya: Looking Ahead Before Stepping Down',\n",
       " 'World Briefing | Africa: Nigeria: Obasanjo To Seek Second Term',\n",
       " 'World Briefing | Africa: Uganda: Political Restrictions Eased',\n",
       " 'World Briefing | Asia: Mozambique: Presidential Candidate Chosen',\n",
       " 'World Briefing | Africa: Nigerian Leader Makes Plea For Stolen Money',\n",
       " 'World Briefing | Africa: Malawi: President Will Need New Job',\n",
       " 'World Briefing | Africa: Malawi: Term Limit Remains In Place',\n",
       " 'World Briefing | Africa: Kenya: Aides Fired For Opposing President',\n",
       " 'World Briefing | Africa: Kenya: Opposition Candidate For President',\n",
       " 'World Briefing | Africa: Kenya: Date Set For Presidential Election',\n",
       " 'World Briefing | Africa: Kenya: Kickoff To Presidential Campaigns',\n",
       " 'World Briefing | Africa: South Africa: A.N.C. Chooses Mbeki',\n",
       " 'World Briefing | Africa: Kenya: I.M.F. Weighs Resumption Of Aid',\n",
       " 'World Briefing | Africa: South Africa: No Decision On Zimbabwe',\n",
       " 'World Briefing | Africa: Kenya: Moi Lets Go',\n",
       " 'World Briefing | United Nations: 5 Nations Win Security Council Seats',\n",
       " 'World Briefing | Africa: South Africa: Election Date Announced',\n",
       " 'World Briefing | Africa: Seychelles: Leader Calls It Quits',\n",
       " 'World Briefing | Africa: Senegal: Prime Minister Out',\n",
       " 'World Briefing | Africa: Kenya: Ex-Presidential Aide Charged',\n",
       " 'World Briefing | Africa: Kenya: Fatal Protests',\n",
       " 'World Briefing | Africa: Uganda: 68 Percent In Poll Want Leader To  Retire',\n",
       " 'World Briefing | Africa: Kenya: Plans To Celebrate A U.S. Senator',\n",
       " 'World Briefing | Africa: Kenya: U.S. Suspends Anti-Corruption Aid',\n",
       " 'World Briefing | Africa: Uganda: Parliament Eliminates Term Limits',\n",
       " 'World Briefing | Africa: Kenya: More Riots Over Constitution',\n",
       " 'World Briefing | Africa: Uganda: Multiparty Referendum Ignored',\n",
       " 'World Briefing | United Nations: 5 New Security Council Members Elected',\n",
       " 'World Briefing | Africa: Kenya: Threat To Bar Campaigning On Charter',\n",
       " 'World Briefing | Africa: Uganda: Opposition Leader Sent To Court-Martial',\n",
       " 'World Briefing | Africa: Kenya: Government Opponents Reject Protest Ban',\n",
       " 'World Briefing | Africa: Uganda: Jailed Opponent To Challege President',\n",
       " 'World Briefing | Africa: Kenya: New Cabinet Crumbles']"
      ]
     },
     "execution_count": 90,
     "metadata": {},
     "output_type": "execute_result"
    }
   ],
   "source": [
    "group2titles[453]"
   ]
  },
  {
   "cell_type": "code",
   "execution_count": null,
   "metadata": {
    "collapsed": true
   },
   "outputs": [],
   "source": [
    "plt.title('result of k-means clustering over 5 years news')\n",
    "plt.ylabel('group size')\n",
    "plt.xlabel('groups')\n",
    "plt.show()\n",
    "plt.plot(group_size[:30])\n",
    "plt.ylabel('group size')\n",
    "plt.xlabel('groups')\n",
    "plt.show()\n",
    "from sklearn.feature_extraction.text import CountVectorizer\n",
    "all_news = \"\"\n",
    "for news in group2titles[1]:\n",
    "    all_news += news\n",
    "ngram_vectorizer = CountVectorizer(stop_words='english', ngram_range=(1,2))\n",
    "ngram = ngram_vectorizer.fit_transform([all_news])"
   ]
  }
 ],
 "metadata": {
  "kernelspec": {
   "display_name": "Python 3",
   "language": "python",
   "name": "python3"
  },
  "language_info": {
   "codemirror_mode": {
    "name": "ipython",
    "version": 3
   },
   "file_extension": ".py",
   "mimetype": "text/x-python",
   "name": "python",
   "nbconvert_exporter": "python",
   "pygments_lexer": "ipython3",
   "version": "3.6.1"
  }
 },
 "nbformat": 4,
 "nbformat_minor": 2
}
